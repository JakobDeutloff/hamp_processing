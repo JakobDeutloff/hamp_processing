{
 "cells": [
  {
   "cell_type": "markdown",
   "metadata": {},
   "source": [
    "# How To HAMP \n",
    "\n",
    "This notebook provides a quick introduction on how to use the data collected by HAMP during the ORCESTRA campaign. The concept is that we do not produce processed datasets at this stage of the campaign, but do the postprocessing of the raw data on the fly. The processing functions are provided in the pyorcestra package and divided in level 1 and level 2 functions. Level 1 functions are mostly meant to fix the timeseries of the data and establish intuitive variable names. Level 2 functions filter the data and correct the radar altitude. \n",
    "\n",
    "We lead through the most basic workflow first and introduce a more sofisticated workflow relying on the ```PostProcessedHAMPData``` class at the end."
   ]
  },
  {
   "cell_type": "markdown",
   "metadata": {},
   "source": [
    "## 1. Low Complexity Workflow\n",
    "### Import all necessary packages: "
   ]
  },
  {
   "cell_type": "code",
   "execution_count": 23,
   "metadata": {},
   "outputs": [],
   "source": [
    "import orcestra.postprocess.level0 as lev0\n",
    "import orcestra.postprocess.level1 as lev1\n",
    "import xarray as xr"
   ]
  },
  {
   "cell_type": "markdown",
   "metadata": {},
   "source": [
    "### Load the raw data as xarray dataset and apply the level 0 processing:"
   ]
  },
  {
   "cell_type": "code",
   "execution_count": 24,
   "metadata": {},
   "outputs": [],
   "source": [
    "# define flight\n",
    "flight = \"HALO-20240825a\"\n",
    "\n",
    "# Open data from dataserver\n",
    "ds_bahamas = xr.open_dataset(\n",
    "    f\"/Volumes/ORCESTRA/{flight}/bahamas/QL_{flight}_BAHAMAS_V01.nc\"\n",
    ").pipe(lev0.bahamas)\n",
    "ds_radio_183 = xr.open_dataset(\n",
    "    f\"/Volumes/ORCESTRA/{flight}/radiometer/183/{flight[7:-1]}.BRT.NC\"\n",
    ").pipe(lev0.radiometer)\n",
    "ds_radio_kv = xr.open_dataset(\n",
    "    f\"/Volumes/ORCESTRA/{flight}/radiometer/kv/{flight[7:-1]}.BRT.NC\"\n",
    ").pipe(lev0.radiometer)\n",
    "ds_radio_11990 = xr.open_dataset(\n",
    "    f\"/Volumes/ORCESTRA/{flight}/radiometer/11990/{flight[7:-1]}.BRT.NC\"\n",
    ").pipe(lev0.radiometer)\n",
    "ds_iwv = xr.open_dataset(\n",
    "    f\"/Volumes/ORCESTRA/{flight}/radiometer/kv/{flight[7:-1]}.IWV.NC\"\n",
    ").pipe(lev0._fix_radiometer_time)\n",
    "# Radardata should be copied to the local maschine since it is ~1.3 GB which would take long to load from server\n",
    "ds_radar = (\n",
    "    xr.open_mfdataset(\n",
    "        f\"/Users/jakobdeutloff/Programming/Orcestra/hamp_processing/Radar_Data/{flight}/*.nc\"\n",
    "    )\n",
    "    .load()\n",
    "    .pipe(lev0.radar)\n",
    ")"
   ]
  },
  {
   "cell_type": "markdown",
   "metadata": {},
   "source": [
    "### Apply level 1 processing. Data is filtered and the radar altitude is corrected:"
   ]
  },
  {
   "cell_type": "code",
   "execution_count": 19,
   "metadata": {},
   "outputs": [],
   "source": [
    "ds_radio_183_lev1 = ds_radio_183.pipe(\n",
    "    lev1.filter_radiometer, height=ds_bahamas[\"IRS_ALT\"], roll=ds_bahamas[\"IRS_PHI\"]\n",
    ")\n",
    "ds_radio_kv_lev1 = ds_radio_kv.pipe(\n",
    "    lev1.filter_radiometer, height=ds_bahamas[\"IRS_ALT\"], roll=ds_bahamas[\"IRS_PHI\"]\n",
    ")\n",
    "ds_radio_11990_lev1 = ds_radio_11990.pipe(\n",
    "    lev1.filter_radiometer, height=ds_bahamas[\"IRS_ALT\"], roll=ds_bahamas[\"IRS_PHI\"]\n",
    ")\n",
    "ds_iwv_lev1 = ds_iwv.pipe(\n",
    "    lev1.filter_radiometer, height=ds_bahamas[\"IRS_ALT\"], roll=ds_bahamas[\"IRS_PHI\"]\n",
    ")\n",
    "ds_radar_lev1 = ds_radar.pipe(lev1.filter_radar, roll=ds_bahamas[\"IRS_PHI\"]).pipe(\n",
    "    lev1.correct_radar_height,\n",
    "    altitude=ds_bahamas[\"IRS_ALT\"],\n",
    "    roll=ds_bahamas[\"IRS_PHI\"],\n",
    "    pitch=ds_bahamas[\"IRS_THE\"],\n",
    ")"
   ]
  },
  {
   "cell_type": "markdown",
   "metadata": {},
   "source": [
    "### Done! Now you can use the postprocessed data :) "
   ]
  },
  {
   "cell_type": "markdown",
   "metadata": {},
   "source": [
    "## 2. High Complexity Workflow with more Features  \n",
    "### Define a config file that holds all the information about where to find the data and where to put plots, data etc like the config_template.txt file"
   ]
  },
  {
   "cell_type": "code",
   "execution_count": 28,
   "metadata": {},
   "outputs": [
    {
     "name": "stdout",
     "output_type": "stream",
     "text": [
      "Reading config YAML: 'config.yaml'\n",
      "No 'writedata' path found in config.yaml, path set to None\n",
      "No 'hampdata' path found in config.yaml, path set to None\n"
     ]
    }
   ],
   "source": [
    "from src import plot_quicklooks as plotql\n",
    "from src import load_data_functions as loadfuncs\n",
    "from src import readwrite_functions as rwfuncs\n",
    "\n",
    "# Read config file\n",
    "configfile = \"config.yaml\"\n",
    "cfg = rwfuncs.extract_config_params(configfile)\n",
    "flightname = cfg[\"flightname\"]\n",
    "path_saveplts = cfg[\"path_saveplts\"]"
   ]
  },
  {
   "cell_type": "markdown",
   "metadata": {},
   "source": [
    "### Create PostProcessedHAMPData object which holds level1 data:"
   ]
  },
  {
   "cell_type": "code",
   "execution_count": 29,
   "metadata": {},
   "outputs": [
    {
     "name": "stdout",
     "output_type": "stream",
     "text": [
      "Using radar data from: /Users/jakobdeutloff/Programming/Orcestra/hamp_processing/Radar_Data/HALO-20240825a/*.nc\n",
      "Using radiometer data from: /Volumes/ORCESTRA/HALO-20240825a/radiometer/183/240825.BRT.NC\n",
      "Using radiometer data from: /Volumes/ORCESTRA/HALO-20240825a/radiometer/11990/240825.BRT.NC\n",
      "Using radiometer data from: /Volumes/ORCESTRA/HALO-20240825a/radiometer/kv/240825.BRT.NC\n",
      "Using column water vapour retrieval from: /Volumes/ORCESTRA/HALO-20240825a/radiometer/kv/240825.IWV.NC\n"
     ]
    }
   ],
   "source": [
    "hampdata = loadfuncs.do_post_processing(\n",
    "    cfg[\"path_bahamas\"],\n",
    "    cfg[\"path_radar\"],\n",
    "    cfg[\"path_radiometer\"],\n",
    "    cfg[\"radiometer_date\"],\n",
    "    is_planet=cfg[\"is_planet\"],\n",
    "    do_radar=True,\n",
    "    do_183=True,\n",
    "    do_11990=True,\n",
    "    do_kv=True,\n",
    "    do_cwv=True,\n",
    ")"
   ]
  },
  {
   "cell_type": "markdown",
   "metadata": {},
   "source": [
    "### Now You can use predefined poltfunctions to generate quicklooks:"
   ]
  },
  {
   "cell_type": "code",
   "execution_count": null,
   "metadata": {},
   "outputs": [],
   "source": [
    "starttime, endtime = \"2024-08-25 11:20\", \"2024-08-25 12:30\"\n",
    "timeframe = slice(starttime, endtime)\n",
    "savefig_format = \"png\"\n",
    "savename = path_saveplts / \"example.png\"\n",
    "dpi = 70\n",
    "fig, axes = plotql.hamp_timeslice_quicklook(\n",
    "    hampdata,\n",
    "    timeframe,\n",
    "    flightname,\n",
    "    ec_under_time=None,\n",
    "    figsize=(18, 12),\n",
    "    savefigparams=[savefig_format, savename, dpi],\n",
    ")\n",
    "fig.tight_layout()"
   ]
  },
  {
   "cell_type": "code",
   "execution_count": null,
   "metadata": {},
   "outputs": [],
   "source": []
  }
 ],
 "metadata": {
  "kernelspec": {
   "display_name": "orcestra",
   "language": "python",
   "name": "python3"
  },
  "language_info": {
   "codemirror_mode": {
    "name": "ipython",
    "version": 3
   },
   "file_extension": ".py",
   "mimetype": "text/x-python",
   "name": "python",
   "nbconvert_exporter": "python",
   "pygments_lexer": "ipython3",
   "version": "3.12.4"
  }
 },
 "nbformat": 4,
 "nbformat_minor": 2
}
